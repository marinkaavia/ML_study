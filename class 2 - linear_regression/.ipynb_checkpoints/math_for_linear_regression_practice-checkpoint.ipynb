{
 "cells": [
  {
   "cell_type": "markdown",
   "id": "d2031ca0",
   "metadata": {},
   "source": [
    "Linear equations with python"
   ]
  },
  {
   "cell_type": "code",
   "execution_count": 17,
   "id": "0d67c9bb",
   "metadata": {},
   "outputs": [
    {
     "name": "stdout",
     "output_type": "stream",
     "text": [
      "152*b0/3 + 4156*b1/3 + 31.0*b2 - 11150/3\n",
      "b0 + 31.0*b1 + 0.833333333333333*b2 - 85.0\n",
      "2*b0 + 152*b1/3 + b2 - 400/3\n"
     ]
    }
   ],
   "source": [
    "#sloving linear equations \n",
    "from sympy import symbols, simplify\n",
    "\n",
    "b1, b2, b0 = symbols('b1 b2 b0')\n",
    "eq1 = (2*23*(23*b1+0.5*b2+b0-55)+2*35*(35*b1+b2+b0-100)+2*18*(18*b1+b0-45))/3\n",
    "eq2 = (2*0.5*(23*b1+0.5*b2+b0-55)+2*(35*b1+b2+b0-100))/3\n",
    "eq3 = (2*(23*b1+0.5*b2+b0-55)+2*(35*b1+b2+b0-100)+2*(18*b1+b0-45))/3\n",
    "print(eq1)\n",
    "print(eq2)\n",
    "print(eq3)"
   ]
  },
  {
   "cell_type": "code",
   "execution_count": 15,
   "id": "6efb80c4",
   "metadata": {},
   "outputs": [
    {
     "name": "stdout",
     "output_type": "stream",
     "text": [
      "[-45.00051062   5.00003123 -30.00056083]\n"
     ]
    }
   ],
   "source": [
    "import numpy as np\n",
    "syst = np.array([[152/3, 4156/3, 31],\n",
    "                [1, 31, 0.833333],\n",
    "                [2, 152/3, 1]])\n",
    "swob = np.array([11150/3, 85, 400/3])\n",
    "try:\n",
    "    answ = np.linalg.solve(syst, swob)\n",
    "    print(answ)\n",
    "    \n",
    "except np.linalg.LinAlgError:\n",
    "    print(\"np solution/ infinite solution\")"
   ]
  },
  {
   "cell_type": "markdown",
   "id": "9914f74e",
   "metadata": {},
   "source": [
    "matrix with python"
   ]
  },
  {
   "cell_type": "code",
   "execution_count": 20,
   "id": "f592f9ce",
   "metadata": {},
   "outputs": [
    {
     "data": {
      "text/plain": [
       "array([[1.+0.j, 2.+0.j, 3.+0.j],\n",
       "       [3.+0.j, 4.+0.j, 5.+0.j]])"
      ]
     },
     "execution_count": 20,
     "metadata": {},
     "output_type": "execute_result"
    }
   ],
   "source": [
    "a = np.array([[1,2,3],[3,4,5]], dtype = np.complex128)\n",
    "a #complex128 - data type for complex values (only 128 bits)"
   ]
  },
  {
   "cell_type": "code",
   "execution_count": 22,
   "id": "c8fa0d18",
   "metadata": {},
   "outputs": [
    {
     "name": "stdout",
     "output_type": "stream",
     "text": [
      "[[3 5 7]\n",
      " [2 3 4]] \n",
      "\n",
      "[[1 1 1]\n",
      " [0 1 2]]\n"
     ]
    }
   ],
   "source": [
    "#add martix\n",
    "m1 = np.array([[2,3,4],[1,2,3]])\n",
    "m2 = np.array([[1,2,3], [1,1,1]])\n",
    "print(m1+m2, \"\\n\")\n",
    "print(m1-m2) #if size different - Vlaue error"
   ]
  },
  {
   "cell_type": "code",
   "execution_count": 24,
   "id": "3e8451a8",
   "metadata": {},
   "outputs": [
    {
     "data": {
      "text/plain": [
       "array([[14],\n",
       "       [32],\n",
       "       [50]])"
      ]
     },
     "execution_count": 24,
     "metadata": {},
     "output_type": "execute_result"
    }
   ],
   "source": [
    "mn1 = np.array([[1,2,3],[4,5,6],[7,8,9]])\n",
    "mn2 = np.array([[1],[2],[3]])\n",
    "np.dot(mn1,mn2) #matrix multiplication\n",
    "#np.dot(mn2, mn1) - value error (this operation is not defined)"
   ]
  },
  {
   "cell_type": "code",
   "execution_count": 25,
   "id": "5c147f5a",
   "metadata": {},
   "outputs": [
    {
     "data": {
      "text/plain": [
       "array([[1, 2],\n",
       "       [1, 2],\n",
       "       [1, 2],\n",
       "       [1, 2]])"
      ]
     },
     "execution_count": 25,
     "metadata": {},
     "output_type": "execute_result"
    }
   ],
   "source": [
    "#transpose \n",
    "c = np.array([[1,1,1,1],[2,2,2,2]])\n",
    "c.T"
   ]
  },
  {
   "cell_type": "code",
   "execution_count": 26,
   "id": "0b4b9627",
   "metadata": {},
   "outputs": [
    {
     "data": {
      "text/plain": [
       "array([[1., 0., 0., 0.],\n",
       "       [0., 1., 0., 0.],\n",
       "       [0., 0., 1., 0.],\n",
       "       [0., 0., 0., 1.]])"
      ]
     },
     "execution_count": 26,
     "metadata": {},
     "output_type": "execute_result"
    }
   ],
   "source": [
    "#identity matrix\n",
    "np.eye(4)"
   ]
  },
  {
   "cell_type": "code",
   "execution_count": 27,
   "id": "5b8e0070",
   "metadata": {},
   "outputs": [
    {
     "data": {
      "text/plain": [
       "array([[ 0.51612903, -0.09677419, -0.90322581],\n",
       "       [-0.5483871 ,  0.29032258,  0.70967742],\n",
       "       [ 0.19354839, -0.16129032,  0.16129032]])"
      ]
     },
     "execution_count": 27,
     "metadata": {},
     "output_type": "execute_result"
    }
   ],
   "source": [
    "#inverse matrix\n",
    "a = np.array([[5,5,6],[7,8,4],[1,2,3]])\n",
    "np.linalg.inv(a) #numpy function for inverse function"
   ]
  },
  {
   "cell_type": "code",
   "execution_count": 26,
   "id": "ad19e5ba",
   "metadata": {},
   "outputs": [],
   "source": [
    "#find a coefficients for linear regression model using formula\n",
    "# b = (x.T*x)^-1 * x.T * y\n",
    "import numpy as np\n",
    "x = np.array([[23,0.5,1],[35,1,1],[18,0,1]])\n",
    "y = np.array([55,100,45])\n",
    "\n",
    "step1 = np.linalg.inv(np.dot(x.T, x))\n",
    "step2 = np.dot(step1_inverse, x.T)\n",
    "rez = np.dot(step2, y)"
   ]
  },
  {
   "cell_type": "code",
   "execution_count": 27,
   "id": "950695fe",
   "metadata": {},
   "outputs": [
    {
     "data": {
      "text/plain": [
       "array([  5., -30., -45.])"
      ]
     },
     "execution_count": 27,
     "metadata": {},
     "output_type": "execute_result"
    }
   ],
   "source": [
    "rez"
   ]
  }
 ],
 "metadata": {
  "kernelspec": {
   "display_name": "Python 3 (ipykernel)",
   "language": "python",
   "name": "python3"
  },
  "language_info": {
   "codemirror_mode": {
    "name": "ipython",
    "version": 3
   },
   "file_extension": ".py",
   "mimetype": "text/x-python",
   "name": "python",
   "nbconvert_exporter": "python",
   "pygments_lexer": "ipython3",
   "version": "3.11.5"
  }
 },
 "nbformat": 4,
 "nbformat_minor": 5
}
