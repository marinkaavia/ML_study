{
 "cells": [
  {
   "cell_type": "code",
   "execution_count": 1,
   "id": "8095db09",
   "metadata": {
    "id": "81t4wEj-9sjI"
   },
   "outputs": [],
   "source": [
    " import pandas as pd"
   ]
  },
  {
   "cell_type": "code",
   "execution_count": 2,
   "id": "7c880fdd",
   "metadata": {
    "id": "cF_CAFZ89sjL"
   },
   "outputs": [],
   "source": [
    "df = pd.read_csv('taxi_dataset_with_predictions.csv', index_col=0)"
   ]
  },
  {
   "cell_type": "code",
   "execution_count": 3,
   "id": "bb12bf90",
   "metadata": {
    "id": "UlT5Cex79sjN"
   },
   "outputs": [
    {
     "data": {
      "text/html": [
       "<div>\n",
       "<style scoped>\n",
       "    .dataframe tbody tr th:only-of-type {\n",
       "        vertical-align: middle;\n",
       "    }\n",
       "\n",
       "    .dataframe tbody tr th {\n",
       "        vertical-align: top;\n",
       "    }\n",
       "\n",
       "    .dataframe thead th {\n",
       "        text-align: right;\n",
       "    }\n",
       "</style>\n",
       "<table border=\"1\" class=\"dataframe\">\n",
       "  <thead>\n",
       "    <tr style=\"text-align: right;\">\n",
       "      <th></th>\n",
       "      <th>vendor_id</th>\n",
       "      <th>pickup_datetime</th>\n",
       "      <th>passenger_count</th>\n",
       "      <th>store_and_fwd_flag</th>\n",
       "      <th>trip_duration</th>\n",
       "      <th>distance_km</th>\n",
       "      <th>prediction_1</th>\n",
       "      <th>prediction_2</th>\n",
       "    </tr>\n",
       "    <tr>\n",
       "      <th>id</th>\n",
       "      <th></th>\n",
       "      <th></th>\n",
       "      <th></th>\n",
       "      <th></th>\n",
       "      <th></th>\n",
       "      <th></th>\n",
       "      <th></th>\n",
       "      <th></th>\n",
       "    </tr>\n",
       "  </thead>\n",
       "  <tbody>\n",
       "    <tr>\n",
       "      <th>id2875421</th>\n",
       "      <td>1</td>\n",
       "      <td>2016-03-14 17:24:55</td>\n",
       "      <td>930.399753</td>\n",
       "      <td>0</td>\n",
       "      <td>455.0</td>\n",
       "      <td>1.500479</td>\n",
       "      <td>578.156451</td>\n",
       "      <td>355.270710</td>\n",
       "    </tr>\n",
       "    <tr>\n",
       "      <th>id2377394</th>\n",
       "      <td>0</td>\n",
       "      <td>2016-06-12 00:43:35</td>\n",
       "      <td>930.399753</td>\n",
       "      <td>0</td>\n",
       "      <td>663.0</td>\n",
       "      <td>1.807119</td>\n",
       "      <td>962.657188</td>\n",
       "      <td>674.295781</td>\n",
       "    </tr>\n",
       "    <tr>\n",
       "      <th>id3858529</th>\n",
       "      <td>1</td>\n",
       "      <td>2016-01-19 11:35:24</td>\n",
       "      <td>930.399753</td>\n",
       "      <td>0</td>\n",
       "      <td>2124.0</td>\n",
       "      <td>6.392080</td>\n",
       "      <td>2546.180515</td>\n",
       "      <td>2422.132431</td>\n",
       "    </tr>\n",
       "    <tr>\n",
       "      <th>id3504673</th>\n",
       "      <td>1</td>\n",
       "      <td>2016-04-06 19:32:31</td>\n",
       "      <td>930.399753</td>\n",
       "      <td>0</td>\n",
       "      <td>429.0</td>\n",
       "      <td>1.487155</td>\n",
       "      <td>737.926214</td>\n",
       "      <td>795.992362</td>\n",
       "    </tr>\n",
       "    <tr>\n",
       "      <th>id2181028</th>\n",
       "      <td>1</td>\n",
       "      <td>2016-03-26 13:30:55</td>\n",
       "      <td>930.399753</td>\n",
       "      <td>0</td>\n",
       "      <td>435.0</td>\n",
       "      <td>1.189925</td>\n",
       "      <td>666.070794</td>\n",
       "      <td>-4.158492</td>\n",
       "    </tr>\n",
       "  </tbody>\n",
       "</table>\n",
       "</div>"
      ],
      "text/plain": [
       "           vendor_id      pickup_datetime  passenger_count  \\\n",
       "id                                                           \n",
       "id2875421          1  2016-03-14 17:24:55       930.399753   \n",
       "id2377394          0  2016-06-12 00:43:35       930.399753   \n",
       "id3858529          1  2016-01-19 11:35:24       930.399753   \n",
       "id3504673          1  2016-04-06 19:32:31       930.399753   \n",
       "id2181028          1  2016-03-26 13:30:55       930.399753   \n",
       "\n",
       "           store_and_fwd_flag  trip_duration  distance_km  prediction_1  \\\n",
       "id                                                                        \n",
       "id2875421                   0          455.0     1.500479    578.156451   \n",
       "id2377394                   0          663.0     1.807119    962.657188   \n",
       "id3858529                   0         2124.0     6.392080   2546.180515   \n",
       "id3504673                   0          429.0     1.487155    737.926214   \n",
       "id2181028                   0          435.0     1.189925    666.070794   \n",
       "\n",
       "           prediction_2  \n",
       "id                       \n",
       "id2875421    355.270710  \n",
       "id2377394    674.295781  \n",
       "id3858529   2422.132431  \n",
       "id3504673    795.992362  \n",
       "id2181028     -4.158492  "
      ]
     },
     "execution_count": 3,
     "metadata": {},
     "output_type": "execute_result"
    }
   ],
   "source": [
    "df.head()"
   ]
  },
  {
   "cell_type": "markdown",
   "id": "adf574c8",
   "metadata": {
    "id": "ZSeEOdpP9sjO"
   },
   "source": [
    "\n",
    "$$\n",
    "MSE = \\frac{1}{n} \\sum_i^n (a(x_i)-y_i)^2\n",
    "$$\n"
   ]
  },
  {
   "cell_type": "code",
   "execution_count": 4,
   "id": "a5f1db68",
   "metadata": {},
   "outputs": [],
   "source": [
    "#if we dont use numpy - 1st way using series - fast\n",
    "error_1 = 0\n",
    "mse1 = (df[\"prediction_1\"]-df[\"trip_duration\"])**2\n",
    "error_1 = mse1.sum()\n",
    "error_1 = error_1/df.shape[0]"
   ]
  },
  {
   "cell_type": "code",
   "execution_count": 5,
   "id": "829cbefb",
   "metadata": {},
   "outputs": [
    {
     "data": {
      "text/plain": [
       "124936.14931386459"
      ]
     },
     "execution_count": 5,
     "metadata": {},
     "output_type": "execute_result"
    }
   ],
   "source": [
    "#2nd way using loop - slow\n",
    "error_2 = 0\n",
    "for index, row in df.iterrows():\n",
    "    rez = (row[\"prediction_2\"]-row[\"trip_duration\"])**2\n",
    "    error_2 += rez\n",
    "error_2 = error_2/df.shape[0]\n",
    "error_2"
   ]
  },
  {
   "cell_type": "code",
   "execution_count": 6,
   "id": "b09f7c9a",
   "metadata": {
    "id": "_JbxQKWp9sjQ",
    "scrolled": true
   },
   "outputs": [
    {
     "name": "stdout",
     "output_type": "stream",
     "text": [
      "MSE первой модели равно: 99994\n",
      "MSE второй модели равно: 124936\n"
     ]
    }
   ],
   "source": [
    "print(f\"MSE первой модели равно: {int(error_1)}\")\n",
    "print(f\"MSE второй модели равно: {int(error_2)}\")"
   ]
  },
  {
   "cell_type": "markdown",
   "id": "4aefda19",
   "metadata": {
    "id": "_AuLIFkJ9sjQ"
   },
   "source": [
    "\n",
    "$$\n",
    "RMSE = \\sqrt{MSE} = \\sqrt{\\frac{1}{n} \\sum_i^n (a(x_i)-y_i)^2}\n",
    "$$"
   ]
  },
  {
   "cell_type": "code",
   "execution_count": 7,
   "id": "0f78765a",
   "metadata": {
    "id": "2VsDSCtz9sjS"
   },
   "outputs": [],
   "source": [
    "error_1 = (error_1)**0.5\n",
    "error_2 = (error_2)**0.5"
   ]
  },
  {
   "cell_type": "code",
   "execution_count": 8,
   "id": "d9ee6d59",
   "metadata": {
    "id": "uefqnRqk9sjS"
   },
   "outputs": [
    {
     "name": "stdout",
     "output_type": "stream",
     "text": [
      "RMSE первой модели равно: 316\n",
      "RMSE второй модели равно: 353\n"
     ]
    }
   ],
   "source": [
    "print(f\"RMSE первой модели равно: {int(error_1)}\")\n",
    "print(f\"RMSE второй модели равно: {int(error_2)}\")"
   ]
  },
  {
   "cell_type": "markdown",
   "id": "b7215906",
   "metadata": {
    "id": "_4jKIu679sjT"
   },
   "source": [
    "$$\n",
    "MAE = \\frac{1}{n} \\sum_i^n |a(x_i)-y_i|\n",
    "$$\n"
   ]
  },
  {
   "cell_type": "code",
   "execution_count": 9,
   "id": "bd893e58",
   "metadata": {
    "id": "Y8smKMFb9sjU"
   },
   "outputs": [],
   "source": [
    "mae1 = abs(df[\"prediction_1\"]-df[\"trip_duration\"])\n",
    "absolute_error_1 = mae1.sum()/df.shape[0]"
   ]
  },
  {
   "cell_type": "code",
   "execution_count": 10,
   "id": "ab4618b6",
   "metadata": {},
   "outputs": [],
   "source": [
    "mae2 = abs(df[\"prediction_2\"]-df[\"trip_duration\"])\n",
    "absolute_error_2 = mae2.sum()/df.shape[0]"
   ]
  },
  {
   "cell_type": "code",
   "execution_count": 11,
   "id": "38795257",
   "metadata": {
    "id": "JVmfwcBR9sjU"
   },
   "outputs": [
    {
     "name": "stdout",
     "output_type": "stream",
     "text": [
      "MAE первой модели равно: 300\n",
      "MAE второй модели равно: 281\n"
     ]
    }
   ],
   "source": [
    "print(f\"MAE первой модели равно: {int(absolute_error_1)}\")\n",
    "print(f\"MAE второй модели равно: {int(absolute_error_2)}\")"
   ]
  },
  {
   "cell_type": "markdown",
   "id": "ae2e11c8",
   "metadata": {
    "id": "4cT9-FyD9sjV"
   },
   "source": [
    "\n",
    "\n",
    "MAE and MSE for 2 models can give different results (ex. MAE is better for 1st, MSE better for second)\n",
    "what does it mean?\n",
    "\n",
    "actually we can make some consiquenses from it\n",
    "\n",
    "MSE better if number of fatal errors is less\n",
    "MAE better if average score is better, but the number of fatal errors can be more"
   ]
  },
  {
   "cell_type": "code",
   "execution_count": 12,
   "id": "6cae82c9",
   "metadata": {
    "id": "wOwMclmm9sjV"
   },
   "outputs": [
    {
     "data": {
      "text/plain": [
       "33061"
      ]
     },
     "execution_count": 12,
     "metadata": {},
     "output_type": "execute_result"
    }
   ],
   "source": [
    "# for 1st model difference between predction and real result \n",
    "dif1 = df[\"prediction_1\"]-df[\"trip_duration\"]\n",
    "counter_1 = dif1[abs(dif1)>=500].size\n",
    "counter_1"
   ]
  },
  {
   "cell_type": "code",
   "execution_count": 13,
   "id": "cdf45267",
   "metadata": {},
   "outputs": [
    {
     "data": {
      "text/plain": [
       "228789"
      ]
     },
     "execution_count": 13,
     "metadata": {},
     "output_type": "execute_result"
    }
   ],
   "source": [
    "dif2 = df[\"prediction_2\"]-df[\"trip_duration\"]\n",
    "counter_2 = dif2[abs(dif2)>=500].size\n",
    "counter_2"
   ]
  },
  {
   "cell_type": "code",
   "execution_count": 14,
   "id": "e1b91fe8",
   "metadata": {
    "id": "D9Q7WLOO9sjV"
   },
   "outputs": [
    {
     "name": "stdout",
     "output_type": "stream",
     "text": [
      "Количество отклонений >= 500 от верного ответа для первой модели равно: 33061\n",
      "Количество отклонений >= 500 от верного ответа для второй модели равно: 228789\n"
     ]
    }
   ],
   "source": [
    "print(f\"Количество отклонений >= 500 от верного ответа для первой модели равно: {counter_1}\")\n",
    "print(f\"Количество отклонений >= 500 от верного ответа для второй модели равно: {counter_2}\")"
   ]
  },
  {
   "cell_type": "markdown",
   "id": "bef679b9",
   "metadata": {
    "id": "hn1-bXxK9sjV"
   },
   "source": [
    "MSE, RMSE and MAE - symmetric metrics (=mistakes -2 and +2 are same in this metrics)\n",
    "\n",
    "sometimes we have to use unsymmetric metrics (-2 and +2 different)"
   ]
  },
  {
   "cell_type": "markdown",
   "id": "e8c7a7e7",
   "metadata": {
    "id": "q5y4RARv9sjW"
   },
   "source": [
    "RMSLE - root mean squred log error\n",
    "\n",
    "$$\n",
    "\\text{RMSLE}(X, y, a) = \\sqrt{\\frac{1}{\\ell}\\sum_{i=1}^{\\ell} \\big(\\log{(y_i + 1)} - \\log{(a(x_i) + 1)}\\big)^2}\n",
    "$$\n",
    "\n",
    "\n",
    "Переменные с метриками назовите *rmsle_1*, *rmsle_2*. Округлите их до 3 знаков после точки."
   ]
  },
  {
   "cell_type": "code",
   "execution_count": 15,
   "id": "7919c05c",
   "metadata": {
    "id": "Ze18m7x69sjW"
   },
   "outputs": [],
   "source": [
    "### as we have log - all negative prediction we would turn into 0\n",
    "df[\"prediction_1\"] = df[\"prediction_1\"].apply(lambda x: max(x, 0))\n",
    "df[\"prediction_2\"] = df[\"prediction_2\"].apply(lambda x: max(x, 0))"
   ]
  },
  {
   "cell_type": "code",
   "execution_count": 16,
   "id": "c56c6e09",
   "metadata": {},
   "outputs": [
    {
     "data": {
      "text/html": [
       "<div>\n",
       "<style scoped>\n",
       "    .dataframe tbody tr th:only-of-type {\n",
       "        vertical-align: middle;\n",
       "    }\n",
       "\n",
       "    .dataframe tbody tr th {\n",
       "        vertical-align: top;\n",
       "    }\n",
       "\n",
       "    .dataframe thead th {\n",
       "        text-align: right;\n",
       "    }\n",
       "</style>\n",
       "<table border=\"1\" class=\"dataframe\">\n",
       "  <thead>\n",
       "    <tr style=\"text-align: right;\">\n",
       "      <th></th>\n",
       "      <th>vendor_id</th>\n",
       "      <th>pickup_datetime</th>\n",
       "      <th>passenger_count</th>\n",
       "      <th>store_and_fwd_flag</th>\n",
       "      <th>trip_duration</th>\n",
       "      <th>distance_km</th>\n",
       "      <th>prediction_1</th>\n",
       "      <th>prediction_2</th>\n",
       "    </tr>\n",
       "    <tr>\n",
       "      <th>id</th>\n",
       "      <th></th>\n",
       "      <th></th>\n",
       "      <th></th>\n",
       "      <th></th>\n",
       "      <th></th>\n",
       "      <th></th>\n",
       "      <th></th>\n",
       "      <th></th>\n",
       "    </tr>\n",
       "  </thead>\n",
       "  <tbody>\n",
       "    <tr>\n",
       "      <th>id2875421</th>\n",
       "      <td>1</td>\n",
       "      <td>2016-03-14 17:24:55</td>\n",
       "      <td>930.399753</td>\n",
       "      <td>0</td>\n",
       "      <td>455.0</td>\n",
       "      <td>1.500479</td>\n",
       "      <td>578.156451</td>\n",
       "      <td>355.270710</td>\n",
       "    </tr>\n",
       "    <tr>\n",
       "      <th>id2377394</th>\n",
       "      <td>0</td>\n",
       "      <td>2016-06-12 00:43:35</td>\n",
       "      <td>930.399753</td>\n",
       "      <td>0</td>\n",
       "      <td>663.0</td>\n",
       "      <td>1.807119</td>\n",
       "      <td>962.657188</td>\n",
       "      <td>674.295781</td>\n",
       "    </tr>\n",
       "    <tr>\n",
       "      <th>id3858529</th>\n",
       "      <td>1</td>\n",
       "      <td>2016-01-19 11:35:24</td>\n",
       "      <td>930.399753</td>\n",
       "      <td>0</td>\n",
       "      <td>2124.0</td>\n",
       "      <td>6.392080</td>\n",
       "      <td>2546.180515</td>\n",
       "      <td>2422.132431</td>\n",
       "    </tr>\n",
       "    <tr>\n",
       "      <th>id3504673</th>\n",
       "      <td>1</td>\n",
       "      <td>2016-04-06 19:32:31</td>\n",
       "      <td>930.399753</td>\n",
       "      <td>0</td>\n",
       "      <td>429.0</td>\n",
       "      <td>1.487155</td>\n",
       "      <td>737.926214</td>\n",
       "      <td>795.992362</td>\n",
       "    </tr>\n",
       "    <tr>\n",
       "      <th>id2181028</th>\n",
       "      <td>1</td>\n",
       "      <td>2016-03-26 13:30:55</td>\n",
       "      <td>930.399753</td>\n",
       "      <td>0</td>\n",
       "      <td>435.0</td>\n",
       "      <td>1.189925</td>\n",
       "      <td>666.070794</td>\n",
       "      <td>0.000000</td>\n",
       "    </tr>\n",
       "  </tbody>\n",
       "</table>\n",
       "</div>"
      ],
      "text/plain": [
       "           vendor_id      pickup_datetime  passenger_count  \\\n",
       "id                                                           \n",
       "id2875421          1  2016-03-14 17:24:55       930.399753   \n",
       "id2377394          0  2016-06-12 00:43:35       930.399753   \n",
       "id3858529          1  2016-01-19 11:35:24       930.399753   \n",
       "id3504673          1  2016-04-06 19:32:31       930.399753   \n",
       "id2181028          1  2016-03-26 13:30:55       930.399753   \n",
       "\n",
       "           store_and_fwd_flag  trip_duration  distance_km  prediction_1  \\\n",
       "id                                                                        \n",
       "id2875421                   0          455.0     1.500479    578.156451   \n",
       "id2377394                   0          663.0     1.807119    962.657188   \n",
       "id3858529                   0         2124.0     6.392080   2546.180515   \n",
       "id3504673                   0          429.0     1.487155    737.926214   \n",
       "id2181028                   0          435.0     1.189925    666.070794   \n",
       "\n",
       "           prediction_2  \n",
       "id                       \n",
       "id2875421    355.270710  \n",
       "id2377394    674.295781  \n",
       "id3858529   2422.132431  \n",
       "id3504673    795.992362  \n",
       "id2181028      0.000000  "
      ]
     },
     "execution_count": 16,
     "metadata": {},
     "output_type": "execute_result"
    }
   ],
   "source": [
    "df.head()"
   ]
  },
  {
   "cell_type": "code",
   "execution_count": 17,
   "id": "e11b253c",
   "metadata": {},
   "outputs": [],
   "source": [
    "import numpy as np"
   ]
  },
  {
   "cell_type": "code",
   "execution_count": 18,
   "id": "e1882cb4",
   "metadata": {},
   "outputs": [],
   "source": [
    "def rmsleCalculate(prediction, real):\n",
    "    prediction = np.array(prediction)\n",
    "    real = np.array(real)\n",
    "    \n",
    "    log_real = np.log1p(real)\n",
    "    log_predict = np.log1p(prediction)\n",
    "\n",
    "    rmsle = (log_real - log_predict) ** 2\n",
    "    mean_rmsle = np.mean(rmsle)\n",
    "    rmsle_all = np.sqrt(mean_rmsle)\n",
    "    return rmsle_all"
   ]
  },
  {
   "cell_type": "code",
   "execution_count": 19,
   "id": "a5cad33d",
   "metadata": {},
   "outputs": [],
   "source": [
    "rmsle_1 = rmsleCalculate(df[\"prediction_1\"], df[\"trip_duration\"])\n",
    "rmsle_2 = rmsleCalculate(df[\"prediction_2\"], df[\"trip_duration\"])"
   ]
  },
  {
   "cell_type": "code",
   "execution_count": 20,
   "id": "9839ebec",
   "metadata": {
    "id": "A_IA-u2d9sjX"
   },
   "outputs": [
    {
     "name": "stdout",
     "output_type": "stream",
     "text": [
      "RMSLE первой модели равно: 0.5537581774590482\n",
      "RMSLE второй модели равно: 1.5564340528341787\n"
     ]
    }
   ],
   "source": [
    "###Распечатайте значения для обеих моделей. Используйте эти значения для ответа на задание шага 9.\n",
    "print(f\"RMSLE первой модели равно: {rmsle_1}\")\n",
    "print(f\"RMSLE второй модели равно: {rmsle_2}\")"
   ]
  },
  {
   "cell_type": "code",
   "execution_count": 21,
   "id": "2b1ea6dc",
   "metadata": {
    "id": "3JJUHCQU9sjY"
   },
   "outputs": [],
   "source": [
    "def over_predicted(predicted, real):\n",
    "    predicted = np.array(predicted)\n",
    "    real = np.array(real)\n",
    "    \n",
    "    over = 0\n",
    "    for i in range(predicted.size):\n",
    "        if predicted[i]>real[i]:\n",
    "            over += 1\n",
    "    return over\n",
    "\n",
    "def under_predicted(predicted, real):\n",
    "    predicted = np.array(predicted)\n",
    "    real = np.array(real)\n",
    "    \n",
    "    under = 0\n",
    "    for i in range(predicted.size):\n",
    "        if real[i]>predicted[i]:\n",
    "            under += 1\n",
    "    return under"
   ]
  },
  {
   "cell_type": "code",
   "execution_count": 22,
   "id": "5bf2d6d5",
   "metadata": {},
   "outputs": [],
   "source": [
    "over_predicted_1 = over_predicted(df[\"prediction_1\"], df[\"trip_duration\"])\n",
    "under_predicted_1 = under_predicted(df[\"prediction_1\"], df[\"trip_duration\"])"
   ]
  },
  {
   "cell_type": "code",
   "execution_count": 23,
   "id": "7383cdf2",
   "metadata": {
    "id": "2MwyPvvM9sjY"
   },
   "outputs": [
    {
     "name": "stdout",
     "output_type": "stream",
     "text": [
      "Предсказания первой модели оказались больше действительных в 1456721 случаях\n",
      "Предсказания первой модели оказались меньше действительных в 1923 случаях\n"
     ]
    }
   ],
   "source": [
    "print(f\"Предсказания первой модели оказались больше действительных в {over_predicted_1} случаях\")\n",
    "print(f\"Предсказания первой модели оказались меньше действительных в {under_predicted_1} случаях\")"
   ]
  },
  {
   "cell_type": "code",
   "execution_count": 24,
   "id": "3a6641ed",
   "metadata": {
    "id": "xphLYA3C9sjY"
   },
   "outputs": [],
   "source": [
    "over_predicted_2 = over_predicted(df[\"prediction_2\"], df[\"trip_duration\"])\n",
    "under_predicted_2 = under_predicted(df[\"prediction_2\"], df[\"trip_duration\"])"
   ]
  },
  {
   "cell_type": "code",
   "execution_count": 25,
   "id": "7eaf426b",
   "metadata": {
    "id": "x8ee6qxn9sjZ"
   },
   "outputs": [
    {
     "name": "stdout",
     "output_type": "stream",
     "text": [
      "Предсказания второй модели оказались больше действительных в 811778 случаях\n",
      "Предсказания второй модели оказались меньше действительных в 646866 случаях\n"
     ]
    }
   ],
   "source": [
    "print(f\"Предсказания второй модели оказались больше действительных в {over_predicted_2} случаях\")\n",
    "print(f\"Предсказания второй модели оказались меньше действительных в {under_predicted_2} случаях\")"
   ]
  },
  {
   "cell_type": "markdown",
   "id": "24aa6eae",
   "metadata": {
    "id": "QfTRmevE9sjZ"
   },
   "source": [
    "review:\n",
    "RSMLE cooses 1st model\n",
    "1st model usually overpredict"
   ]
  }
 ],
 "metadata": {
  "colab": {
   "collapsed_sections": [],
   "name": "HW_2.ipynb",
   "provenance": []
  },
  "kernelspec": {
   "display_name": "Python 3 (ipykernel)",
   "language": "python",
   "name": "python3"
  },
  "language_info": {
   "codemirror_mode": {
    "name": "ipython",
    "version": 3
   },
   "file_extension": ".py",
   "mimetype": "text/x-python",
   "name": "python",
   "nbconvert_exporter": "python",
   "pygments_lexer": "ipython3",
   "version": "3.11.5"
  }
 },
 "nbformat": 4,
 "nbformat_minor": 5
}
